{
 "cells": [
  {
   "cell_type": "code",
   "execution_count": 1,
   "id": "ffd509fe-694f-4702-9e75-760c375365f3",
   "metadata": {},
   "outputs": [],
   "source": [
    "import pandas as pd\n",
    "import numpy as np\n",
    "import matplotlib.pyplot as plt\n",
    "import plotly.express as px"
   ]
  },
  {
   "cell_type": "markdown",
   "id": "577f3471-3d7b-40a8-8418-b7353df727e0",
   "metadata": {},
   "source": [
    "## Data Source files."
   ]
  },
  {
   "cell_type": "code",
   "execution_count": 2,
   "id": "3774892d-6fb0-4831-9c8b-f40671e23ee5",
   "metadata": {},
   "outputs": [],
   "source": [
    "covid_data_csv = \"covid_data.csv\"\n",
    "cardio_base_csv = \"cardio_base.csv\"\n",
    "cardio_alco_csv = \"cardio_alco.csv\""
   ]
  },
  {
   "cell_type": "code",
   "execution_count": null,
   "id": "f4bdd970-e968-4619-9ba2-b5d18b765e7e",
   "metadata": {},
   "outputs": [],
   "source": []
  }
 ],
 "metadata": {
  "kernelspec": {
   "display_name": "Python 3 (ipykernel)",
   "language": "python",
   "name": "python3"
  },
  "language_info": {
   "codemirror_mode": {
    "name": "ipython",
    "version": 3
   },
   "file_extension": ".py",
   "mimetype": "text/x-python",
   "name": "python",
   "nbconvert_exporter": "python",
   "pygments_lexer": "ipython3",
   "version": "3.10.1"
  }
 },
 "nbformat": 4,
 "nbformat_minor": 5
}
